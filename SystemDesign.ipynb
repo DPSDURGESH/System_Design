{
  "nbformat": 4,
  "nbformat_minor": 0,
  "metadata": {
    "colab": {
      "provenance": [],
      "authorship_tag": "ABX9TyPYpRQBh619gQ0NfPRuN1Ua",
      "include_colab_link": true
    },
    "kernelspec": {
      "name": "python3",
      "display_name": "Python 3"
    },
    "language_info": {
      "name": "python"
    }
  },
  "cells": [
    {
      "cell_type": "markdown",
      "metadata": {
        "id": "view-in-github",
        "colab_type": "text"
      },
      "source": [
        "<a href=\"https://colab.research.google.com/github/DPSDURGESH/System_Design/blob/main/SystemDesign.ipynb\" target=\"_parent\"><img src=\"https://colab.research.google.com/assets/colab-badge.svg\" alt=\"Open In Colab\"/></a>"
      ]
    },
    {
      "cell_type": "markdown",
      "source": [
        "System Design :-  \n",
        "\n",
        "        => IP Addresss :- IPv4 and IPv6 :-\n",
        "                It is a Unique numerical labale assigned to each server or device connected to internet.\n",
        "\n",
        "        => Domain Name :-\n",
        "                Its a human readable/friendly address used to identify a server or device on the internet.\n",
        "\n",
        "        => DNS :- Domain NAme System\n",
        "                    DNS helps to translates domian name to IP Address\n",
        "\n",
        "\n",
        "            There are Two Main Approaches\n",
        "              -> Recursive\n",
        "              ->Iterative\n",
        "\n",
        "              www.durgesh.com.\n",
        "              \n",
        "              www     -> Sub-domain\n",
        "              durgesh -> Second-Level domain\n",
        "              com     -> Top-Level domain\n",
        "              .       -> Root\n",
        "\n",
        "\n",
        "        => Recursive :-"
      ],
      "metadata": {
        "id": "xtbnHopnoes5"
      }
    },
    {
      "cell_type": "markdown",
      "source": [],
      "metadata": {
        "id": "c21T9iK7otrS"
      }
    }
  ]
}